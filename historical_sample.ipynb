{
 "cells": [
  {
   "cell_type": "markdown",
   "id": "0efeae6b",
   "metadata": {},
   "source": [
    "# Analýza banky"
   ]
  },
  {
   "cell_type": "markdown",
   "id": "0cfe3e63",
   "metadata": {},
   "source": [
    "## Příprava dat"
   ]
  },
  {
   "cell_type": "code",
   "execution_count": 1,
   "id": "df7cc24d",
   "metadata": {},
   "outputs": [],
   "source": [
    "import pandas as pd\n",
    "import statsmodels.api as sm\n",
    "import seaborn as sns\n",
    "import matplotlib.pyplot as plt"
   ]
  },
  {
   "cell_type": "code",
   "execution_count": 2,
   "id": "2487e919",
   "metadata": {},
   "outputs": [],
   "source": [
    "df = pd.read_csv('./historical_sample.csv',sep=';',decimal=',')"
   ]
  },
  {
   "cell_type": "code",
   "execution_count": 3,
   "id": "93ca910d",
   "metadata": {},
   "outputs": [],
   "source": [
    "df.rename(columns=lambda x: x.lower(), inplace=True)"
   ]
  },
  {
   "cell_type": "code",
   "execution_count": 4,
   "id": "d99778bb",
   "metadata": {},
   "outputs": [
    {
     "data": {
      "text/html": [
       "<div>\n",
       "<style scoped>\n",
       "    .dataframe tbody tr th:only-of-type {\n",
       "        vertical-align: middle;\n",
       "    }\n",
       "\n",
       "    .dataframe tbody tr th {\n",
       "        vertical-align: top;\n",
       "    }\n",
       "\n",
       "    .dataframe thead th {\n",
       "        text-align: right;\n",
       "    }\n",
       "</style>\n",
       "<table border=\"1\" class=\"dataframe\">\n",
       "  <thead>\n",
       "    <tr style=\"text-align: right;\">\n",
       "      <th></th>\n",
       "      <th>age</th>\n",
       "      <th>gender</th>\n",
       "      <th>marstat</th>\n",
       "      <th>housing</th>\n",
       "      <th>educ</th>\n",
       "      <th>inc_gr</th>\n",
       "      <th>children</th>\n",
       "      <th>iq</th>\n",
       "      <th>client</th>\n",
       "      <th>rate</th>\n",
       "      <th>cost_type</th>\n",
       "      <th>default_flg</th>\n",
       "    </tr>\n",
       "  </thead>\n",
       "  <tbody>\n",
       "    <tr>\n",
       "      <th>0</th>\n",
       "      <td>18</td>\n",
       "      <td>0</td>\n",
       "      <td>4</td>\n",
       "      <td>2</td>\n",
       "      <td>3</td>\n",
       "      <td>3</td>\n",
       "      <td>1</td>\n",
       "      <td>61.280758</td>\n",
       "      <td>544</td>\n",
       "      <td>0.052944</td>\n",
       "      <td>www</td>\n",
       "      <td>0</td>\n",
       "    </tr>\n",
       "    <tr>\n",
       "      <th>1</th>\n",
       "      <td>23</td>\n",
       "      <td>0</td>\n",
       "      <td>1</td>\n",
       "      <td>1</td>\n",
       "      <td>3</td>\n",
       "      <td>3</td>\n",
       "      <td>1</td>\n",
       "      <td>72.224303</td>\n",
       "      <td>665</td>\n",
       "      <td>0.052944</td>\n",
       "      <td>www</td>\n",
       "      <td>0</td>\n",
       "    </tr>\n",
       "    <tr>\n",
       "      <th>2</th>\n",
       "      <td>25</td>\n",
       "      <td>0</td>\n",
       "      <td>1</td>\n",
       "      <td>2</td>\n",
       "      <td>3</td>\n",
       "      <td>3</td>\n",
       "      <td>1</td>\n",
       "      <td>86.556911</td>\n",
       "      <td>2692</td>\n",
       "      <td>0.052944</td>\n",
       "      <td>www</td>\n",
       "      <td>0</td>\n",
       "    </tr>\n",
       "    <tr>\n",
       "      <th>3</th>\n",
       "      <td>22</td>\n",
       "      <td>0</td>\n",
       "      <td>4</td>\n",
       "      <td>2</td>\n",
       "      <td>3</td>\n",
       "      <td>3</td>\n",
       "      <td>1</td>\n",
       "      <td>70.032964</td>\n",
       "      <td>3227</td>\n",
       "      <td>0.052944</td>\n",
       "      <td>www</td>\n",
       "      <td>1</td>\n",
       "    </tr>\n",
       "    <tr>\n",
       "      <th>4</th>\n",
       "      <td>25</td>\n",
       "      <td>0</td>\n",
       "      <td>4</td>\n",
       "      <td>2</td>\n",
       "      <td>3</td>\n",
       "      <td>3</td>\n",
       "      <td>1</td>\n",
       "      <td>81.056197</td>\n",
       "      <td>3491</td>\n",
       "      <td>0.052944</td>\n",
       "      <td>www</td>\n",
       "      <td>0</td>\n",
       "    </tr>\n",
       "    <tr>\n",
       "      <th>...</th>\n",
       "      <td>...</td>\n",
       "      <td>...</td>\n",
       "      <td>...</td>\n",
       "      <td>...</td>\n",
       "      <td>...</td>\n",
       "      <td>...</td>\n",
       "      <td>...</td>\n",
       "      <td>...</td>\n",
       "      <td>...</td>\n",
       "      <td>...</td>\n",
       "      <td>...</td>\n",
       "      <td>...</td>\n",
       "    </tr>\n",
       "    <tr>\n",
       "      <th>9995</th>\n",
       "      <td>42</td>\n",
       "      <td>1</td>\n",
       "      <td>2</td>\n",
       "      <td>4</td>\n",
       "      <td>2</td>\n",
       "      <td>2</td>\n",
       "      <td>2</td>\n",
       "      <td>131.379556</td>\n",
       "      <td>9109</td>\n",
       "      <td>0.050000</td>\n",
       "      <td>Broker</td>\n",
       "      <td>0</td>\n",
       "    </tr>\n",
       "    <tr>\n",
       "      <th>9996</th>\n",
       "      <td>49</td>\n",
       "      <td>1</td>\n",
       "      <td>2</td>\n",
       "      <td>4</td>\n",
       "      <td>4</td>\n",
       "      <td>4</td>\n",
       "      <td>2</td>\n",
       "      <td>153.353553</td>\n",
       "      <td>9233</td>\n",
       "      <td>0.050000</td>\n",
       "      <td>Broker</td>\n",
       "      <td>0</td>\n",
       "    </tr>\n",
       "    <tr>\n",
       "      <th>9997</th>\n",
       "      <td>59</td>\n",
       "      <td>1</td>\n",
       "      <td>2</td>\n",
       "      <td>4</td>\n",
       "      <td>2</td>\n",
       "      <td>2</td>\n",
       "      <td>2</td>\n",
       "      <td>180.000000</td>\n",
       "      <td>9296</td>\n",
       "      <td>0.050000</td>\n",
       "      <td>Broker</td>\n",
       "      <td>0</td>\n",
       "    </tr>\n",
       "    <tr>\n",
       "      <th>9998</th>\n",
       "      <td>45</td>\n",
       "      <td>1</td>\n",
       "      <td>2</td>\n",
       "      <td>4</td>\n",
       "      <td>4</td>\n",
       "      <td>4</td>\n",
       "      <td>2</td>\n",
       "      <td>131.212587</td>\n",
       "      <td>9551</td>\n",
       "      <td>0.050000</td>\n",
       "      <td>Broker</td>\n",
       "      <td>0</td>\n",
       "    </tr>\n",
       "    <tr>\n",
       "      <th>9999</th>\n",
       "      <td>52</td>\n",
       "      <td>1</td>\n",
       "      <td>2</td>\n",
       "      <td>4</td>\n",
       "      <td>2</td>\n",
       "      <td>2</td>\n",
       "      <td>2</td>\n",
       "      <td>167.229566</td>\n",
       "      <td>9587</td>\n",
       "      <td>0.050000</td>\n",
       "      <td>Broker</td>\n",
       "      <td>0</td>\n",
       "    </tr>\n",
       "  </tbody>\n",
       "</table>\n",
       "<p>10000 rows × 12 columns</p>\n",
       "</div>"
      ],
      "text/plain": [
       "      age  gender  marstat  housing  educ  inc_gr  children          iq  \\\n",
       "0      18       0        4        2     3       3         1   61.280758   \n",
       "1      23       0        1        1     3       3         1   72.224303   \n",
       "2      25       0        1        2     3       3         1   86.556911   \n",
       "3      22       0        4        2     3       3         1   70.032964   \n",
       "4      25       0        4        2     3       3         1   81.056197   \n",
       "...   ...     ...      ...      ...   ...     ...       ...         ...   \n",
       "9995   42       1        2        4     2       2         2  131.379556   \n",
       "9996   49       1        2        4     4       4         2  153.353553   \n",
       "9997   59       1        2        4     2       2         2  180.000000   \n",
       "9998   45       1        2        4     4       4         2  131.212587   \n",
       "9999   52       1        2        4     2       2         2  167.229566   \n",
       "\n",
       "      client      rate cost_type  default_flg  \n",
       "0        544  0.052944       www            0  \n",
       "1        665  0.052944       www            0  \n",
       "2       2692  0.052944       www            0  \n",
       "3       3227  0.052944       www            1  \n",
       "4       3491  0.052944       www            0  \n",
       "...      ...       ...       ...          ...  \n",
       "9995    9109  0.050000    Broker            0  \n",
       "9996    9233  0.050000    Broker            0  \n",
       "9997    9296  0.050000    Broker            0  \n",
       "9998    9551  0.050000    Broker            0  \n",
       "9999    9587  0.050000    Broker            0  \n",
       "\n",
       "[10000 rows x 12 columns]"
      ]
     },
     "execution_count": 4,
     "metadata": {},
     "output_type": "execute_result"
    }
   ],
   "source": [
    "df"
   ]
  },
  {
   "cell_type": "markdown",
   "id": "57581820",
   "metadata": {},
   "source": [
    "### Popis dat"
   ]
  },
  {
   "cell_type": "markdown",
   "id": "2b3c4aef",
   "metadata": {},
   "source": [
    "| Variable | Character | Description |\n",
    "| -------- | --------- | ----------- |\n",
    "| Client | N/A | Identification number of the applicant |\n",
    "| Age | discrete | Age of applicant |\n",
    "| Gender | categorical | 0 – Male, 1 – Female |\n",
    "| MarStat | categorical | Marital Status of the applicant: 1 – divorced, 2 – married, 3 – single, 4 – window/male widow |\n",
    "| Housing | categorical | Type of applicants’ accommodation: 1 – lives with with parents, 2 – registered at the town hall, 3 – in an own house/apartment, 4 – in a rented house/apartment |\n",
    "| Educ | categorical | Type of applicants’ education: 1 – elementary, 2 – secondary school, 3 – university, 4 – PhD. |\n",
    "| Inc_Gr | categorical | Volume of applicants’ income: 1 – receives social security. 2 – receives salary less than 15 000 CZK, 3 – receives salary between 15 000 CZK and 30 000 CZK, 4 – receives salary more than 30 000 CZK |\n",
    "| Children | discrete | Number of applicant’s children |\n",
    "| IQ | discrete | Applicant’s IQ |\n",
    "| Default_flg | discrete | Flag suggesting whether the loan was paid back (=0) or not (default=1) |\n",
    "| Rate | continuous | Annual interest rate of the applicant’s loan |\n",
    "| Cost_type | character | Type of distributional channel |\n"
   ]
  },
  {
   "cell_type": "code",
   "execution_count": 536,
   "id": "fe76ae48",
   "metadata": {},
   "outputs": [
    {
     "data": {
      "image/png": "[encoded data removed]",
      "text/plain": [
       "<Figure size 1080x432 with 1 Axes>"
      ]
     },
     "metadata": {
      "needs_background": "light"
     },
     "output_type": "display_data"
    },
    {
     "data": {
      "image/png": "[encoded data removed]",
      "text/plain": [
       "<Figure size 1080x432 with 1 Axes>"
      ]
     },
     "metadata": {
      "needs_background": "light"
     },
     "output_type": "display_data"
    },
    {
     "data": {
      "image/png": "[encoded data removed]",
      "text/plain": [
       "<Figure size 1080x432 with 1 Axes>"
      ]
     },
     "metadata": {
      "needs_background": "light"
     },
     "output_type": "display_data"
    },
    {
     "data": {
      "image/png": "[encoded data removed]",
      "text/plain": [
       "<Figure size 1080x432 with 1 Axes>"
      ]
     },
     "metadata": {
      "needs_background": "light"
     },
     "output_type": "display_data"
    },
    {
     "data": {
      "image/png": "[encoded data removed]",
      "text/plain": [
       "<Figure size 1080x432 with 1 Axes>"
      ]
     },
     "metadata": {
      "needs_background": "light"
     },
     "output_type": "display_data"
    },
    {
     "data": {
      "image/png": "[encoded data removed]",
      "text/plain": [
       "<Figure size 1080x432 with 1 Axes>"
      ]
     },
     "metadata": {
      "needs_background": "light"
     },
     "output_type": "display_data"
    },
    {
     "data": {
      "image/png": "[encoded data removed]",
      "text/plain": [
       "<Figure size 1080x432 with 1 Axes>"
      ]
     },
     "metadata": {
      "needs_background": "light"
     },
     "output_type": "display_data"
    },
    {
     "data": {
      "image/png": "[encoded data removed]",
      "text/plain": [
       "<Figure size 1080x432 with 1 Axes>"
      ]
     },
     "metadata": {
      "needs_background": "light"
     },
     "output_type": "display_data"
    },
    {
     "data": {
      "text/plain": [
       "<Figure size 1080x432 with 0 Axes>"
      ]
     },
     "metadata": {},
     "output_type": "display_data"
    },
    {
     "data": {
      "image/png": "[encoded data removed]",
      "text/plain": [
       "<Figure size 1080x432 with 1 Axes>"
      ]
     },
     "metadata": {
      "needs_background": "light"
     },
     "output_type": "display_data"
    },
    {
     "data": {
      "image/png": "[encoded data removed]",
      "text/plain": [
       "<Figure size 1080x432 with 1 Axes>"
      ]
     },
     "metadata": {
      "needs_background": "light"
     },
     "output_type": "display_data"
    },
    {
     "data": {
      "image/png": "[encoded data removed]",
      "text/plain": [
       "<Figure size 1080x432 with 1 Axes>"
      ]
     },
     "metadata": {
      "needs_background": "light"
     },
     "output_type": "display_data"
    }
   ],
   "source": [
    "import matplotlib.pyplot as plt\n",
    "import seaborn as sns\n",
    "\n",
    "for column in df.columns:\n",
    "    plt.figure(figsize=(15, 6))\n",
    "    if column not in ['client']:\n",
    "        # vykreslení histogramu pro numerické proměnné\n",
    "        if (df[column].dtype == \"int64\" or df[column].dtype == \"float64\") and column not in ['gender', 'default_flg']:\n",
    "            sns.histplot(data=df, x=column, bins=10)\n",
    "            plt.xlabel(column)\n",
    "            plt.ylabel(\"Počet pozorování\")\n",
    "            plt.title(f\"Histogram {column}\")\n",
    "            plt.show()\n",
    "        # vykreslení sloupcového grafu pro kategoriální proměnné\n",
    "        else:\n",
    "            sns.countplot(data=df, x=column)\n",
    "            plt.xlabel(column)\n",
    "            plt.ylabel(\"Počet pozorování\")\n",
    "            plt.title(f\"Počet pozorování pro {column}\")\n",
    "            plt.show()"
   ]
  },
  {
   "cell_type": "code",
   "execution_count": 537,
   "id": "2712d763",
   "metadata": {},
   "outputs": [
    {
     "data": {
      "text/plain": [
       "age            0\n",
       "gender         0\n",
       "marstat        0\n",
       "housing        0\n",
       "educ           0\n",
       "inc_gr         0\n",
       "children       0\n",
       "iq             0\n",
       "client         0\n",
       "rate           0\n",
       "cost_type      0\n",
       "default_flg    0\n",
       "dtype: int64"
      ]
     },
     "execution_count": 537,
     "metadata": {},
     "output_type": "execute_result"
    }
   ],
   "source": [
    "df.isnull().sum()"
   ]
  },
  {
   "cell_type": "code",
   "execution_count": 538,
   "id": "2ecf80af",
   "metadata": {},
   "outputs": [
    {
     "data": {
      "text/plain": [
       "array(['www', 'Broker', 'Facebook'], dtype=object)"
      ]
     },
     "execution_count": 538,
     "metadata": {},
     "output_type": "execute_result"
    }
   ],
   "source": [
    "df['cost_type'].unique()"
   ]
  },
  {
   "cell_type": "code",
   "execution_count": 539,
   "id": "1cde8a9c",
   "metadata": {},
   "outputs": [
    {
     "data": {
      "text/plain": [
       "age              int64\n",
       "gender           int64\n",
       "marstat          int64\n",
       "housing          int64\n",
       "educ             int64\n",
       "inc_gr           int64\n",
       "children         int64\n",
       "iq             float64\n",
       "client           int64\n",
       "rate           float64\n",
       "cost_type       object\n",
       "default_flg      int64\n",
       "dtype: object"
      ]
     },
     "execution_count": 539,
     "metadata": {},
     "output_type": "execute_result"
    }
   ],
   "source": [
    "df.dtypes"
   ]
  },
  {
   "cell_type": "code",
   "execution_count": 540,
   "id": "e96abb0f",
   "metadata": {},
   "outputs": [
    {
     "data": {
      "text/plain": [
       "<AxesSubplot:>"
      ]
     },
     "execution_count": 540,
     "metadata": {},
     "output_type": "execute_result"
    },
    {
     "data": {
      "image/png": "[encoded data removed]",
      "text/plain": [
       "<Figure size 1440x432 with 2 Axes>"
      ]
     },
     "metadata": {
      "needs_background": "light"
     },
     "output_type": "display_data"
    }
   ],
   "source": [
    "# Korelačn9 matice\n",
    "plt.figure(figsize=(20, 6))\n",
    "cor_matrix = round(df.corr(),2)\n",
    "sns.heatmap(cor_matrix, annot=True)"
   ]
  },
  {
   "cell_type": "markdown",
   "id": "727a86b4",
   "metadata": {},
   "source": [
    "## Úkol 1\n"
   ]
  },
  {
   "cell_type": "markdown",
   "id": "83722185",
   "metadata": {},
   "source": [
    "Jelikož sledujeme závislost kategiriální proměnné na numerické (numerických), v prví řadě se pokusíme použít klasickou logistickou regeresi."
   ]
  },
  {
   "cell_type": "code",
   "execution_count": 541,
   "id": "af1c7d23",
   "metadata": {},
   "outputs": [],
   "source": [
    "# Jelikož pro logistickou regresi potřebujeme binární cílovou proměnnou a my máme 3 kategorie, musíme cílovku binazirovat tím, že vytvoříme dummy proměnné.\n",
    "cost_type_dummies = pd.get_dummies(df['cost_type'], prefix='cost_type')\n",
    "\n",
    "df = pd.concat([df, cost_type_dummies], axis=1)\n",
    "\n",
    "# Odstraníme původní sloupec\n",
    "# df.drop('cost_type', axis=1, inplace=True)\n",
    "\n",
    "# VSUVKA - nakonec odstraňovat sloupec nebudu, protože ho pak dále potřebuju pro jiné výpočty."
   ]
  },
  {
   "cell_type": "code",
   "execution_count": 542,
   "id": "4f909704",
   "metadata": {},
   "outputs": [],
   "source": [
    "# Vydefinujeme vysvětlované a vysvětlujicí proměnné\n",
    "X = df[['iq', 'age']]\n",
    "y = df[['cost_type_Broker', 'cost_type_Facebook', 'cost_type_www']]"
   ]
  },
  {
   "cell_type": "code",
   "execution_count": 543,
   "id": "6c2ae72c",
   "metadata": {},
   "outputs": [],
   "source": [
    "# Dataset rozdělíme na test a train části\n",
    "from sklearn.model_selection import train_test_split\n",
    "\n",
    "X_train, X_test, y_train, y_test = train_test_split(X, y, test_size=0.2, random_state=42)"
   ]
  },
  {
   "cell_type": "code",
   "execution_count": 544,
   "id": "589fa41e",
   "metadata": {},
   "outputs": [],
   "source": [
    "# Vytvoříme zvláštní logistický regresní model pro každou dummy proměnnou\n",
    "from sklearn.linear_model import LogisticRegression\n",
    "\n",
    "models = []\n",
    "for column in y_train.columns:\n",
    "    model = LogisticRegression()\n",
    "    model.fit(X_train, y_train[column])\n",
    "    models.append(model)"
   ]
  },
  {
   "cell_type": "code",
   "execution_count": 545,
   "id": "9bf0a758",
   "metadata": {},
   "outputs": [
    {
     "name": "stdout",
     "output_type": "stream",
     "text": [
      "              precision    recall  f1-score   support\n",
      "\n",
      "           0       1.00      1.00      1.00       863\n",
      "           1       1.00      1.00      1.00      1137\n",
      "\n",
      "    accuracy                           1.00      2000\n",
      "   macro avg       1.00      1.00      1.00      2000\n",
      "weighted avg       1.00      1.00      1.00      2000\n",
      "\n",
      "\n",
      "Accuracy Score for Logistic regression model:  1.0\n",
      "              precision    recall  f1-score   support\n",
      "\n",
      "           0       1.00      0.94      0.97      1998\n",
      "           1       0.01      0.50      0.02         2\n",
      "\n",
      "    accuracy                           0.94      2000\n",
      "   macro avg       0.50      0.72      0.49      2000\n",
      "weighted avg       1.00      0.94      0.97      2000\n",
      "\n",
      "\n",
      "Accuracy Score for Logistic regression model:  0.9385\n",
      "              precision    recall  f1-score   support\n",
      "\n",
      "           0       1.00      1.00      1.00      1257\n",
      "           1       1.00      0.99      1.00       743\n",
      "\n",
      "    accuracy                           1.00      2000\n",
      "   macro avg       1.00      1.00      1.00      2000\n",
      "weighted avg       1.00      1.00      1.00      2000\n",
      "\n",
      "\n",
      "Accuracy Score for Logistic regression model:  0.9975\n"
     ]
    }
   ],
   "source": [
    "from sklearn.linear_model import LogisticRegression\n",
    "from sklearn import metrics\n",
    "from sklearn.metrics import accuracy_score,classification_report,confusion_matrix,mean_squared_error\n",
    "from sklearn.metrics import make_scorer,classification_report, f1_score,precision_score,recall_score\n",
    "\n",
    "y_pred = pd.DataFrame()\n",
    "for i, model in enumerate(models):\n",
    "    column_name = y_train.columns[i]\n",
    "    y_pred[column_name] = model.predict(X_test)\n",
    "    print(classification_report(y_pred[column_name], y_test[column_name]))\n",
    "    print('\\nAccuracy Score for Logistic regression model: ', accuracy_score(y_pred[column_name], y_test[column_name]))"
   ]
  },
  {
   "cell_type": "markdown",
   "id": "678b4668",
   "metadata": {},
   "source": [
    "Také můžeme zkusit alternativní přístup:"
   ]
  },
  {
   "cell_type": "code",
   "execution_count": 546,
   "id": "e68f1dfd",
   "metadata": {},
   "outputs": [
    {
     "name": "stdout",
     "output_type": "stream",
     "text": [
      "           iq       age\n",
      "iq   1.000000  0.985671\n",
      "age  0.985671  1.000000\n"
     ]
    }
   ],
   "source": [
    "correlation_iq_age = df[['iq', 'age', 'cost_type']].corr()\n",
    "print(correlation_iq_age)"
   ]
  },
  {
   "cell_type": "code",
   "execution_count": 547,
   "id": "e2c9b124",
   "metadata": {},
   "outputs": [
    {
     "name": "stdout",
     "output_type": "stream",
     "text": [
      "Závislost věku na typu distributoru:\n",
      "                 age\n",
      "cost_type           \n",
      "Broker     50.490800\n",
      "Facebook   38.753989\n",
      "www        30.189099\n"
     ]
    }
   ],
   "source": [
    "print(\"Závislost věku na typu distributoru:\")\n",
    "print(df \\\n",
    "    .groupby('cost_type')[['age']] \\\n",
    "    .mean())"
   ]
  },
  {
   "cell_type": "code",
   "execution_count": 548,
   "id": "62890488",
   "metadata": {},
   "outputs": [
    {
     "name": "stdout",
     "output_type": "stream",
     "text": [
      "Závislost věku na typu distributoru:\n",
      "                   iq\n",
      "cost_type            \n",
      "Broker     155.700308\n",
      "Facebook   125.065177\n",
      "www         96.081092\n"
     ]
    }
   ],
   "source": [
    "\n",
    "print(\"Závislost věku na typu distributoru:\")\n",
    "print(df \\\n",
    "    .groupby('cost_type')[['iq']] \\\n",
    "    .mean())"
   ]
  },
  {
   "cell_type": "markdown",
   "id": "16b30a32",
   "metadata": {},
   "source": [
    "Interpretace: Je zde zřejmá závislost distributora jak na IQ, tak i na věku a to následovně: čím vyšší věk, tím spíše k nám budou klienti přicházet z Faceboku v porovnání s webem a ti nejstarší dokonce od brokera. S rostoucím IQ platí ten samý výsledek."
   ]
  },
  {
   "cell_type": "markdown",
   "id": "b119d250",
   "metadata": {},
   "source": [
    "Také mě napadlo zkontrolovat, jestli klienti z některého ze zdrojů nejsou více obsažené ve třetí kategorii vlastnictví nemovitostí, to by totiž mělo vliv na jejích výpočet lgd, ale tudy zřejmě cesta nevede."
   ]
  },
  {
   "cell_type": "code",
   "execution_count": 549,
   "id": "07184726",
   "metadata": {},
   "outputs": [
    {
     "data": {
      "text/html": [
       "<div>\n",
       "<style scoped>\n",
       "    .dataframe tbody tr th:only-of-type {\n",
       "        vertical-align: middle;\n",
       "    }\n",
       "\n",
       "    .dataframe tbody tr th {\n",
       "        vertical-align: top;\n",
       "    }\n",
       "\n",
       "    .dataframe thead th {\n",
       "        text-align: right;\n",
       "    }\n",
       "</style>\n",
       "<table border=\"1\" class=\"dataframe\">\n",
       "  <thead>\n",
       "    <tr style=\"text-align: right;\">\n",
       "      <th>housing</th>\n",
       "      <th>1</th>\n",
       "      <th>2</th>\n",
       "      <th>3</th>\n",
       "      <th>4</th>\n",
       "    </tr>\n",
       "    <tr>\n",
       "      <th>cost_type</th>\n",
       "      <th></th>\n",
       "      <th></th>\n",
       "      <th></th>\n",
       "      <th></th>\n",
       "    </tr>\n",
       "  </thead>\n",
       "  <tbody>\n",
       "    <tr>\n",
       "      <th>Broker</th>\n",
       "      <td>1443</td>\n",
       "      <td>1410</td>\n",
       "      <td>1390</td>\n",
       "      <td>1409</td>\n",
       "    </tr>\n",
       "    <tr>\n",
       "      <th>Facebook</th>\n",
       "      <td>180</td>\n",
       "      <td>190</td>\n",
       "      <td>188</td>\n",
       "      <td>194</td>\n",
       "    </tr>\n",
       "    <tr>\n",
       "      <th>www</th>\n",
       "      <td>930</td>\n",
       "      <td>884</td>\n",
       "      <td>902</td>\n",
       "      <td>880</td>\n",
       "    </tr>\n",
       "  </tbody>\n",
       "</table>\n",
       "</div>"
      ],
      "text/plain": [
       "housing       1     2     3     4\n",
       "cost_type                        \n",
       "Broker     1443  1410  1390  1409\n",
       "Facebook    180   190   188   194\n",
       "www         930   884   902   880"
      ]
     },
     "execution_count": 549,
     "metadata": {},
     "output_type": "execute_result"
    }
   ],
   "source": [
    "pivot_table = pd.crosstab(index=df['cost_type'], columns=df['housing'])\n",
    "pivot_table"
   ]
  },
  {
   "cell_type": "markdown",
   "id": "bf467c6d",
   "metadata": {},
   "source": [
    "## Úkol 2"
   ]
  },
  {
   "cell_type": "code",
   "execution_count": 550,
   "id": "c1641fd7",
   "metadata": {},
   "outputs": [
    {
     "name": "stdout",
     "output_type": "stream",
     "text": [
      "Korelační koeficient: 0.9856712543096535\n"
     ]
    }
   ],
   "source": [
    "correlation = df['iq'].corr(df['age'])\n",
    "\n",
    "print(\"Korelační koeficient:\", correlation)"
   ]
  },
  {
   "cell_type": "markdown",
   "id": "c654b617",
   "metadata": {},
   "source": [
    "Podle výsledného kerelačního koeficientu vidíme, že je zde velmi silná až skoro úplná lieární závislost mezi proměnými IQ a věk.\n",
    "Bylo to také vidět na korelační matici na začátku analýzy."
   ]
  },
  {
   "cell_type": "markdown",
   "id": "1cef96c4",
   "metadata": {},
   "source": [
    "## Úkol 3"
   ]
  },
  {
   "cell_type": "code",
   "execution_count": 551,
   "id": "e1efe17f",
   "metadata": {},
   "outputs": [
    {
     "name": "stdout",
     "output_type": "stream",
     "text": [
      "Počet výskytů za jednotlivé příjmové skupiny: inc_gr\n",
      "1    1953\n",
      "2    2001\n",
      "3    3194\n",
      "4    2852\n",
      "Name: default_flg, dtype: int64\n"
     ]
    }
   ],
   "source": [
    "# Počet výskytů za jednotlivé příjmové skupiny\n",
    "inc_gr_count = df.groupby('inc_gr')['default_flg'].count()\n",
    "\n",
    "print(\"Počet výskytů za jednotlivé příjmové skupiny:\", inc_gr_count)"
   ]
  },
  {
   "cell_type": "code",
   "execution_count": 552,
   "id": "98984569",
   "metadata": {},
   "outputs": [
    {
     "name": "stdout",
     "output_type": "stream",
     "text": [
      "Absolutní počty defaultů: inc_gr\n",
      "1    207\n",
      "2    174\n",
      "3     91\n",
      "4     58\n",
      "Name: default_flg, dtype: int64\n"
     ]
    }
   ],
   "source": [
    "# Absolutní počty defaultů\n",
    "default_cnt = df.groupby('inc_gr')['default_flg'].sum()\n",
    "\n",
    "print(\"Absolutní počty defaultů:\", default_cnt)"
   ]
  },
  {
   "cell_type": "code",
   "execution_count": 553,
   "id": "4485bace",
   "metadata": {},
   "outputs": [
    {
     "name": "stdout",
     "output_type": "stream",
     "text": [
      "Relativní počty defaultů pomocí průměru: inc_gr\n",
      "1    10.599078\n",
      "2     8.695652\n",
      "3     2.849092\n",
      "4     2.033661\n",
      "Name: default_flg, dtype: float64\n"
     ]
    }
   ],
   "source": [
    "# Relativní počty defaultů pomocí průměru\n",
    "default_rate = df.groupby('inc_gr')['default_flg'].mean() * 100\n",
    "\n",
    "print(\"Relativní počty defaultů pomocí průměru:\", default_rate)"
   ]
  },
  {
   "cell_type": "code",
   "execution_count": 554,
   "id": "72e52143",
   "metadata": {},
   "outputs": [
    {
     "data": {
      "image/png": "[encoded data removed]",
      "text/plain": [
       "<Figure size 432x288 with 1 Axes>"
      ]
     },
     "metadata": {
      "needs_background": "light"
     },
     "output_type": "display_data"
    }
   ],
   "source": [
    "import matplotlib.pyplot as plt\n",
    "\n",
    "# Zobrazíme výsledky v grafu\n",
    "plt.bar(default_rate.index, default_rate)\n",
    "plt.xlabel('Příjmová skupina')\n",
    "plt.ylabel('Default rate')\n",
    "plt.title('Default rate v závislosti na příjmové skupině')\n",
    "plt.show()"
   ]
  },
  {
   "cell_type": "markdown",
   "id": "6e6a01b4",
   "metadata": {},
   "source": [
    "První a druhá příjmové skupiny jsou zřejmě několikanásobně rizikovější z pohledu nedodržení závazku splacení s velmi vysokými hodnoty těchto defaultů (10 a 8 procent resp.). Ekonomicky by se dalo inpretovat například tak, že bychom se možná měli vyhýbat poskytování tohoto produktu lidem z těchto příjmových tříd a pro ně vymyslet alternativní produkt, který bude lépe odpovídat jejích ekonomické situaci. "
   ]
  },
  {
   "cell_type": "markdown",
   "id": "6bc9fe5a",
   "metadata": {},
   "source": [
    "## Úkol 4"
   ]
  },
  {
   "cell_type": "code",
   "execution_count": 555,
   "id": "c2c96ae6",
   "metadata": {},
   "outputs": [
    {
     "name": "stdout",
     "output_type": "stream",
     "text": [
      "Počet záznamů: 10000\n"
     ]
    }
   ],
   "source": [
    "# Počet záznamů\n",
    "num_observations = len(df)\n",
    "print(\"Počet záznamů:\", num_observations)"
   ]
  },
  {
   "cell_type": "code",
   "execution_count": 556,
   "id": "afaa5d25",
   "metadata": {},
   "outputs": [
    {
     "name": "stdout",
     "output_type": "stream",
     "text": [
      "Počet defaultů: 530\n"
     ]
    }
   ],
   "source": [
    "# Počet defaultů\n",
    "num_defaults = df['default_flg'].sum()\n",
    "print(\"Počet defaultů:\", num_defaults)"
   ]
  },
  {
   "cell_type": "code",
   "execution_count": 557,
   "id": "f380d3ca",
   "metadata": {},
   "outputs": [
    {
     "name": "stdout",
     "output_type": "stream",
     "text": [
      "Default rate: 5.3\n",
      "Průměrné LGD: 4.88\n"
     ]
    }
   ],
   "source": [
    "# Default rate\n",
    "default_rate = (num_defaults / num_observations) * 100\n",
    "\n",
    "# Průměrné LGD\n",
    "# Přijdeme pouze o 20 procent pokud je nemovistost vlastněná (skopina 3 v proměnné Housing) a naopak 70 procnet u ostatních\n",
    "average_lgd = (0.2 * df[df['housing'] == 3]['default_flg'].mean() +\n",
    "               0.7 * df[df['housing'] != 3]['default_flg'].mean()) * 100\n",
    "\n",
    "print(\"Default rate:\", default_rate)\n",
    "print(\"Průměrné LGD:\", round(average_lgd, 2))"
   ]
  },
  {
   "cell_type": "code",
   "execution_count": 558,
   "id": "612568e3",
   "metadata": {},
   "outputs": [
    {
     "name": "stdout",
     "output_type": "stream",
     "text": [
      "LGD pouze vlastníků nemovistosti: 0.35\n"
     ]
    }
   ],
   "source": [
    "print(\"LGD pouze vlastníků nemovistosti:\", round(0.2 * df[df['housing'] == 3]['default_flg'].mean() * 100, 2))"
   ]
  },
  {
   "cell_type": "code",
   "execution_count": 559,
   "id": "6b9c3f4f",
   "metadata": {},
   "outputs": [
    {
     "name": "stdout",
     "output_type": "stream",
     "text": [
      "LGD pouze nevlastníků nemovistosti: 4.53\n"
     ]
    }
   ],
   "source": [
    "print(\"LGD pouze nevlastníků nemovistosti:\", round(0.7 * df[df['housing'] != 3]['default_flg'].mean() * 100, 2))"
   ]
  },
  {
   "cell_type": "markdown",
   "id": "527bb342",
   "metadata": {},
   "source": [
    "Zde tedy vidíme také moc důležitou informaci, že přicházíme velmi často o peníze v případě nevlastníků nemovitostí. Mohli bychom se tedy opět zaměřit na tuto skupinu a upravit patříčným způsobem podmínky půjček."
   ]
  },
  {
   "cell_type": "code",
   "execution_count": 560,
   "id": "dfa1a623",
   "metadata": {},
   "outputs": [
    {
     "name": "stdout",
     "output_type": "stream",
     "text": [
      "Average IQ: 131.9574764026569\n",
      "Average Age: 42.3077\n"
     ]
    }
   ],
   "source": [
    "# Průměrné IQ\n",
    "average_iq = df['iq'].mean()\n",
    "\n",
    "# Průmrný věk\n",
    "average_age = df['age'].mean()\n",
    "\n",
    "print(\"Average IQ:\", average_iq)\n",
    "print(\"Average Age:\", average_age)"
   ]
  },
  {
   "cell_type": "code",
   "execution_count": 561,
   "id": "8a741b5a",
   "metadata": {},
   "outputs": [
    {
     "name": "stdout",
     "output_type": "stream",
     "text": [
      "Nejvíce zastoupený typ ubytování žadatelů: 1\n",
      "Nejvíce zastoupený typ vzdělání žadatelů: 3\n",
      "Nejvíce zastoupená kategorie objem příjmů žadatelů: 3\n"
     ]
    }
   ],
   "source": [
    "# Nejčastěji se vyskytující charakteristika v proměnné Housing\n",
    "most_frequent_housing = df['housing'].mode().values[0]\n",
    "\n",
    "# Nejčastěji se vyskytující charakteristika v proměnné Educ\n",
    "most_frequent_educ = df['educ'].mode().values[0]\n",
    "\n",
    "# Nejčastěji se vyskytující charakteristika v proměnné Inc_Gr\n",
    "most_frequent_inc_gr = df['inc_gr'].mode().values[0]\n",
    "\n",
    "print(\"Nejvíce zastoupený typ ubytování žadatelů:\", most_frequent_housing)\n",
    "print(\"Nejvíce zastoupený typ vzdělání žadatelů:\", most_frequent_educ)\n",
    "print(\"Nejvíce zastoupená kategorie objem příjmů žadatelů:\", most_frequent_inc_gr)"
   ]
  },
  {
   "cell_type": "markdown",
   "id": "5c1e0ce8",
   "metadata": {},
   "source": [
    "## Úkol 5"
   ]
  },
  {
   "cell_type": "markdown",
   "id": "91d0aba8",
   "metadata": {},
   "source": [
    "### Otázka 1"
   ]
  },
  {
   "cell_type": "code",
   "execution_count": 562,
   "id": "bab6a66b",
   "metadata": {},
   "outputs": [],
   "source": [
    "# Toto je komplexnější úkol, který vyřeším postupně.\n",
    "# Nejdříve založím sloupec teoretického výnosu z úrokové sazby pro každý řádek, abych s tím mohl dále pohodlně počítat.\n",
    "df['income_from_rate'] = df['rate'] * 30000"
   ]
  },
  {
   "cell_type": "code",
   "execution_count": 563,
   "id": "e070168b",
   "metadata": {},
   "outputs": [],
   "source": [
    "# Výpočet ztrát z defaultů\n",
    "df['default_loss'] = df['default_flg'] * ( (df['housing'].map({1: 0.7, 2: 0.7, 3: 0.2, 4: 0.7}) * 30000) + (df['housing'].map({1: 0.7, 2: 0.7, 3: 0.2, 4: 0.7}) * df['income_from_rate']) )"
   ]
  },
  {
   "cell_type": "code",
   "execution_count": 564,
   "id": "1f9e1014",
   "metadata": {},
   "outputs": [
    {
     "name": "stdout",
     "output_type": "stream",
     "text": [
      "Zisk za celé portflio:\n",
      "-3313164.7970349994\n",
      "\n",
      "\n",
      "\n",
      "Zisk za jedntlivé distribuční zdroje:\n",
      "cost_type\n",
      "Broker     -6.511500e+05\n",
      "Facebook   -1.129078e+05\n",
      "www        -2.549107e+06\n",
      "Name: profit, dtype: float64\n",
      "\n",
      "\n",
      "\n",
      "Zisk za jedntlivé věky:\n",
      "age\n",
      "(18, 23]   -1.318532e+06\n",
      "(23, 28]   -8.305696e+05\n",
      "(28, 33]    1.280672e+05\n",
      "(33, 38]   -6.011144e+05\n",
      "(38, 43]   -4.441206e+04\n",
      "(43, 48]    3.330000e+04\n",
      "(48, 53]   -3.095500e+05\n",
      "(53, 58]   -2.650000e+03\n",
      "(58, 63]   -2.017000e+05\n",
      "Name: profit, dtype: float64\n",
      "\n",
      "\n",
      "\n",
      "Zisk za jednotlivé pohlaví:\n",
      "0 - muž\n",
      "1 - žena\n",
      "\n",
      "gender\n",
      "0   -5.445415e+06\n",
      "1    2.132250e+06\n",
      "Name: profit, dtype: float64\n",
      "\n",
      "\n",
      "\n",
      "Zisk za jedntlivé rodinné stavy:\n",
      "1 – rozvedený\n",
      "2 – ženatý\n",
      "3 – svobodní\n",
      "4 – okno/muž vdova\n",
      "\n",
      "marstat\n",
      "1   -1.813147e+06\n",
      "2    5.103126e+05\n",
      "3    6.732506e+04\n",
      "4   -2.077655e+06\n",
      "Name: profit, dtype: float64\n",
      "\n",
      "\n",
      "\n",
      "Zisk za jedntlivé způsoby bydlení:\n",
      "1 – bydlí s rodiči\n",
      "2 – registrováno na městském úřadě\n",
      "3 – ve vlastním domě/bytě\n",
      "4 – v pronajatém domě/bytě\n",
      "\n",
      "housing\n",
      "1   -2.671203e+06\n",
      "2   -2.880993e+06\n",
      "3    1.757800e+06\n",
      "4    4.812317e+05\n",
      "Name: profit, dtype: float64\n",
      "\n",
      "\n",
      "\n",
      "Zisk za jednotlivé typy vzdělání:\n",
      "1 – základní\n",
      "2 – střední škola\n",
      "3 – univerzita\n",
      "4 – PhD.\n",
      "\n",
      "educ\n",
      "1   -4.621227e+06\n",
      "2   -6.797016e+05\n",
      "3    1.065135e+06\n",
      "4    9.226281e+05\n",
      "Name: profit, dtype: float64\n",
      "\n",
      "\n",
      "\n",
      "Zisk jedntlivé příjmové skupiny:\n",
      "1 – pobírá sociální zabezpečení\n",
      "2 – pobírá mzdu nižší než 15 000 Kč\n",
      "3 – pobírá mzdu od 15 000 Kč do 30 000 Kč\n",
      "4 – pobírá mzdu nad 30 000 Kč\n",
      "\n",
      "inc_gr\n",
      "1   -2.937853e+06\n",
      "2   -2.258861e+06\n",
      "3    6.423667e+05\n",
      "4    1.241182e+06\n",
      "Name: profit, dtype: float64\n",
      "\n",
      "\n",
      "\n",
      "Zisk za počty dětí:\n",
      "children\n",
      "0   -5.691006e+05\n",
      "1   -1.439922e+06\n",
      "2   -1.252146e+06\n",
      "3   -5.199537e+04\n",
      "Name: profit, dtype: float64\n",
      "\n",
      "\n",
      "\n",
      "Zisk za jedntlivé intervaly IQ:\n",
      "iq\n",
      "(40.0, 60.0]     -2.429555e+04\n",
      "(60.0, 80.0]     -1.893882e+06\n",
      "(80.0, 100.0]    -3.741963e+05\n",
      "(100.0, 120.0]   -2.502330e+05\n",
      "(120.0, 140.0]   -2.078078e+05\n",
      "(140.0, 160.0]   -3.010500e+05\n",
      "(160.0, 180.0]   -2.617000e+05\n",
      "Name: profit, dtype: float64\n"
     ]
    }
   ],
   "source": [
    "# Výpočet výnosu podle ceny distribučních zdrojů\n",
    "df['channel_cost'] = df['cost_type'].map({'www': 200, 'Facebook': 300, 'Broker': 1000})\n",
    "df['profit'] = (df['default_flg'].replace({0: 1, 1: 0}) * df['income_from_rate']) - df['default_loss'] - df['channel_cost']\n",
    "\n",
    "# Za celé portflio\n",
    "total_profit = df['profit'].sum()\n",
    "\n",
    "# Za jedntlivé distribuční zdroje\n",
    "total_profit_by_channel = df.groupby('cost_type')['profit'].sum()\n",
    "\n",
    "# Za jedntlivé věky\n",
    "bins_age = pd.interval_range(start=18, end=df['age'].max(), freq=5)\n",
    "total_profit_by_age = df.groupby(pd.cut(df['age'], bins_age))['profit'].sum()\n",
    "\n",
    "# Za jedntlivé pohlaví\n",
    "total_profit_by_gender = df.groupby('gender')['profit'].sum()\n",
    "\n",
    "# Za jedntlivé jedntlivé rodinné stavy\n",
    "total_profit_by_marstat = df.groupby('marstat')['profit'].sum()\n",
    "\n",
    "# Za jedntlivé způsobu bydlení\n",
    "total_profit_by_housing = df.groupby('housing')['profit'].sum()\n",
    "\n",
    "# Za jednotlivé typy vzdělání\n",
    "total_profit_by_educ = df.groupby('educ')['profit'].sum()\n",
    "\n",
    "# Za jedntlivé příjmové skupiny\n",
    "total_profit_by_inc_gr = df.groupby('inc_gr')['profit'].sum()\n",
    "\n",
    "# Za jedntlivé počty dětí\n",
    "total_profit_by_children = df.groupby('children')['profit'].sum()\n",
    "\n",
    "# Za jedntlivé intervaly IQ\n",
    "bins_iq = pd.interval_range(start=40, end=df['iq'].max(), freq=20)\n",
    "total_profit_by_iq = df.groupby(pd.cut(df['iq'], bins_iq))['profit'].sum()\n",
    "\n",
    "\n",
    "print(\"Zisk za celé portflio:\")\n",
    "print(total_profit)\n",
    "print()\n",
    "print()\n",
    "print()\n",
    "print(\"Zisk za jedntlivé distribuční zdroje:\")\n",
    "print(total_profit_by_channel)\n",
    "print()\n",
    "print()\n",
    "print()\n",
    "print(\"Zisk za jedntlivé věky:\")\n",
    "print(total_profit_by_age)\n",
    "print()\n",
    "print()\n",
    "print()\n",
    "print('''Zisk za jednotlivé pohlaví:\n",
    "0 - muž\n",
    "1 - žena\n",
    "''')\n",
    "print(total_profit_by_gender)\n",
    "print()\n",
    "print()\n",
    "print()\n",
    "print('''Zisk za jedntlivé rodinné stavy:\n",
    "1 – rozvedený\n",
    "2 – ženatý\n",
    "3 – svobodní\n",
    "4 – okno/muž vdova\n",
    "''')\n",
    "print(total_profit_by_marstat)\n",
    "print()\n",
    "print()\n",
    "print()\n",
    "print('''Zisk za jedntlivé způsoby bydlení:\n",
    "1 – bydlí s rodiči\n",
    "2 – registrováno na městském úřadě\n",
    "3 – ve vlastním domě/bytě\n",
    "4 – v pronajatém domě/bytě\n",
    "''')\n",
    "print(total_profit_by_housing)\n",
    "print()\n",
    "print()\n",
    "print()\n",
    "print('''Zisk za jednotlivé typy vzdělání:\n",
    "1 – základní\n",
    "2 – střední škola\n",
    "3 – univerzita\n",
    "4 – PhD.\n",
    "''')\n",
    "print(total_profit_by_educ)\n",
    "print()\n",
    "print()\n",
    "print()\n",
    "print('''Zisk jedntlivé příjmové skupiny:\n",
    "1 – pobírá sociální zabezpečení\n",
    "2 – pobírá mzdu nižší než 15 000 Kč\n",
    "3 – pobírá mzdu od 15 000 Kč do 30 000 Kč\n",
    "4 – pobírá mzdu nad 30 000 Kč\n",
    "''')\n",
    "print(total_profit_by_inc_gr)\n",
    "print()\n",
    "print()\n",
    "print()\n",
    "print(\"Zisk za počty dětí:\")\n",
    "print(total_profit_by_children)\n",
    "print()\n",
    "print()\n",
    "print()\n",
    "print(\"Zisk za jedntlivé intervaly IQ:\")\n",
    "print(total_profit_by_iq)"
   ]
  },
  {
   "cell_type": "markdown",
   "id": "c95ce895",
   "metadata": {},
   "source": [
    "#### Celkové charakteristiky\n",
    "Přišlo mi zajímavé prozkoumat i jednotlivé položky zvlášť:"
   ]
  },
  {
   "cell_type": "code",
   "execution_count": 565,
   "id": "b530d17d",
   "metadata": {},
   "outputs": [
    {
     "name": "stdout",
     "output_type": "stream",
     "text": [
      "Celkové výnosy: 14382421.78839\n"
     ]
    }
   ],
   "source": [
    "print(\"Celkové výnosy:\", (df['default_flg'].replace({0: 1, 1: 0}) * df['income_from_rate']).sum())"
   ]
  },
  {
   "cell_type": "code",
   "execution_count": 566,
   "id": "c0f543aa",
   "metadata": {},
   "outputs": [
    {
     "name": "stdout",
     "output_type": "stream",
     "text": [
      "Celkové ztráty z defaultů: 11098786.585425\n"
     ]
    }
   ],
   "source": [
    "print(\"Celkové ztráty z defaultů:\", df['default_loss'].sum())"
   ]
  },
  {
   "cell_type": "code",
   "execution_count": 567,
   "id": "d48ff1ad",
   "metadata": {},
   "outputs": [
    {
     "name": "stdout",
     "output_type": "stream",
     "text": [
      "Celkové ztráty z plateb distributorům: 6596800\n"
     ]
    }
   ],
   "source": [
    "print(\"Celkové ztráty z plateb distributorům:\", df['channel_cost'].sum())"
   ]
  },
  {
   "cell_type": "markdown",
   "id": "9be2e316",
   "metadata": {},
   "source": [
    "#### Detailnější pohled na distribuční kanály\n"
   ]
  },
  {
   "cell_type": "code",
   "execution_count": 568,
   "id": "ae18ef8e",
   "metadata": {},
   "outputs": [
    {
     "name": "stdout",
     "output_type": "stream",
     "text": [
      "cost_type\n",
      "Broker      8.248500e+06\n",
      "Facebook    1.071074e+06\n",
      "www         5.062847e+06\n",
      "dtype: float64\n"
     ]
    }
   ],
   "source": [
    "# Výnosy podle typu distribuce\n",
    "print((df['default_flg'].replace({0: 1, 1: 0}) * df['income_from_rate']).groupby(df['cost_type']).sum())"
   ]
  },
  {
   "cell_type": "code",
   "execution_count": 569,
   "id": "2ee9c510",
   "metadata": {},
   "outputs": [
    {
     "name": "stdout",
     "output_type": "stream",
     "text": [
      "cost_type\n",
      "Broker      5652000\n",
      "Facebook     225600\n",
      "www          719200\n",
      "Name: channel_cost, dtype: int64\n"
     ]
    }
   ],
   "source": [
    "# Ztráty na ceně distribuce\n",
    "print(df.groupby('cost_type')['channel_cost'].sum())"
   ]
  },
  {
   "cell_type": "code",
   "execution_count": 570,
   "id": "3b30524f",
   "metadata": {},
   "outputs": [
    {
     "name": "stdout",
     "output_type": "stream",
     "text": [
      "cost_type\n",
      "Broker      3.247650e+06\n",
      "Facebook    9.583822e+05\n",
      "www         6.892754e+06\n",
      "Name: default_loss, dtype: float64\n"
     ]
    }
   ],
   "source": [
    "# Ztráty na defaultech\n",
    "print(df.groupby('cost_type')['default_loss'].sum())"
   ]
  },
  {
   "cell_type": "markdown",
   "id": "4e1144cc",
   "metadata": {},
   "source": [
    "### Otázky 2 a 3"
   ]
  },
  {
   "cell_type": "markdown",
   "id": "885e7a9b",
   "metadata": {},
   "source": [
    "Z pohledu rozdělení dle distribučních kanálů zde jasně vidíme, že momentálně se nejlépe daří Facebooku, jelikož je ve ztrátě \"pouze\" sto tisíc (v porovnání například se ztrátou dva a půl miliony u klinetů z webu). Utracíme zde nejméně jak za samotné použití (distribuci), tak zde máme i několikanásobně nižší ztráty na defaultech.naopak nejhorším kanálem je pro nás momentálně web, zde jsme přišli, jak již jsme zmínil, o 2,5 milionu korun. Největším důvodem zde budou šílené ztráty na defaultech (skoro 7 milionu korun)."
   ]
  },
  {
   "cell_type": "markdown",
   "id": "3683b3d5",
   "metadata": {},
   "source": [
    "## Úkol 6"
   ]
  },
  {
   "cell_type": "markdown",
   "id": "c97fd36e",
   "metadata": {},
   "source": [
    "Nejlepším klinetem je pro nás postarší, ženatá, vzdělaná žena, která vlastní nemovitost, která pobírá mzdu nad 30 000 Kč."
   ]
  },
  {
   "cell_type": "markdown",
   "id": "0c44b42c",
   "metadata": {},
   "source": [
    "Naopak nejhorším klientem je pro nás velmi mladý, nevzdělaný muž v prvních rocích své ekonomické aktivity, který bydlí u rodičů a pobírá sociální zabezpečení nebo pobírá mzdu nižší než 15 000 Kč."
   ]
  },
  {
   "cell_type": "markdown",
   "id": "7bf52d32",
   "metadata": {},
   "source": [
    "## Doporučení managementu"
   ]
  },
  {
   "cell_type": "markdown",
   "id": "8b4f7b65",
   "metadata": {},
   "source": [
    "Z provedené analýzy vyplývá, že momentální stav produktu se zcela nedá považovat za přípustný a výhledy do budoucna nejsou vůbec lepší. Přicházíme o spoustu peněz převážně na defaultech u skupin, které nemají vlastní nemovitost. Je tedy potřeba přehodnotit podmínky dosažení této půjčky pro skupiny obyvatelstva, které nemají dostatečný příjem, či způsoby krytí. \n",
    "\n",
    "Také je potřeba lépe pracovat a komunikovat s klienty, které mají nízké nejvyšší dosažené vzdělání, jelikož zde dochází k velkjému množství defaultů. Zřejmě nemají dostatečnou finanční gramotnost na to, aby správně zhodnotili všechny své ekonomické rozhodnutí. \n",
    "\n",
    "Dále je potřeba přehodnotit práci s distributory, kdy v případě brokerů jsme přišli o neuvěřitelných 5,5 milionů korun, ale rozhodně se nám to v případě tohoto kanálu dostatečně nevrátilo na příjmech. Sice příjmy v tomto segmentu jsou nejvyšší, ale zdaleka ne v takovém poměru jako ztráty na využití tohoto kanálu."
   ]
  },
  {
   "cell_type": "code",
   "execution_count": null,
   "id": "6b04af6a",
   "metadata": {},
   "outputs": [],
   "source": []
  }
 ],
 "metadata": {
  "kernelspec": {
   "display_name": "Python 3",
   "language": "python",
   "name": "python3"
  },
  "language_info": {
   "codemirror_mode": {
    "name": "ipython",
    "version": 3
   },
   "file_extension": ".py",
   "mimetype": "text/x-python",
   "name": "python",
   "nbconvert_exporter": "python",
   "pygments_lexer": "ipython3",
   "version": "3.8.8"
  }
 },
 "nbformat": 4,
 "nbformat_minor": 5
}
